{
  "nbformat": 4,
  "nbformat_minor": 0,
  "metadata": {
    "colab": {
      "name": "Curso Udemy - Programando Ideia.ipynb",
      "provenance": [],
      "authorship_tag": "ABX9TyPYnQPJ4+JfHlR2+IAP+1LK",
      "include_colab_link": true
    },
    "kernelspec": {
      "name": "python3",
      "display_name": "Python 3"
    },
    "language_info": {
      "name": "python"
    }
  },
  "cells": [
    {
      "cell_type": "markdown",
      "metadata": {
        "id": "view-in-github",
        "colab_type": "text"
      },
      "source": [
        "<a href=\"https://colab.research.google.com/github/marciamelo/curso_python/blob/main/Curso_Udemy_Programando_Ideia.ipynb\" target=\"_parent\"><img src=\"https://colab.research.google.com/assets/colab-badge.svg\" alt=\"Open In Colab\"/></a>"
      ]
    },
    {
      "cell_type": "markdown",
      "metadata": {
        "id": "CKXTLylMSAGD"
      },
      "source": [
        "# **Seção 2 - Dando os Primeiros Passos**"
      ]
    },
    {
      "cell_type": "markdown",
      "metadata": {
        "id": "vcJ7R3iBSE4b"
      },
      "source": [
        "## Pep 8 - São arquivos que apresentam propostas de melhoria para a Linguagem Python"
      ]
    },
    {
      "cell_type": "markdown",
      "metadata": {
        "id": "AFQOcGnmTDA2"
      },
      "source": [
        "### **Regras mais utilizadas**"
      ]
    },
    {
      "cell_type": "markdown",
      "metadata": {
        "id": "sPj50-EMTHA8"
      },
      "source": [
        "1 - O pycharm vem com padrão de reconhecimento de palavras em inglês"
      ]
    },
    {
      "cell_type": "code",
      "metadata": {
        "id": "jfpooATFR8ID"
      },
      "source": [
        ""
      ],
      "execution_count": null,
      "outputs": []
    }
  ]
}